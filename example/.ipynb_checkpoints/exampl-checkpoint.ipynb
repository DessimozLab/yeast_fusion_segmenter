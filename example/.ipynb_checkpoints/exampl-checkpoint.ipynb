{
 "cells": [
  {
   "cell_type": "code",
   "execution_count": 1,
   "id": "d510c5d6-b7d2-480b-99d1-3e842855e5d9",
   "metadata": {},
   "outputs": [],
   "source": [
    "import numpy as np\n",
    "from PIL import Image\n",
    "from skimage import draw\n",
    "import random\n",
    "from pathlib import Path\n",
    "\n",
    "def create_image(path, img_size, min_radius):\n",
    "    path.parent.mkdir( parents=True, exist_ok=True )\n",
    "    \n",
    "    arr = np.zeros((img_size, img_size)).astype(np.uint8)\n",
    "    center_x = random.randint(min_radius, (img_size-min_radius))\n",
    "    center_y = random.randint(min_radius, (img_size-min_radius))\n",
    "    max_radius = min(center_x, center_y, img_size - center_x, img_size - center_y)\n",
    "    radius = random.randint(min_radius, max_radius)\n",
    "\n",
    "    row_indxs, column_idxs = draw.ellipse(center_x, center_y, radius, radius, shape=arr.shape)\n",
    "    \n",
    "    arr[row_indxs, column_idxs] = 255\n",
    "\n",
    "    im = Image.fromarray(arr)\n",
    "    im.save(path)\n",
    "\n",
    "def create_images(data_root_path, train_num, val_num, test_num, img_size=640, min_radius=10):\n",
    "    data_root_path = Path(data_root_path)\n",
    "    \n",
    "    for i in range(train_num):\n",
    "        create_image(data_root_path / 'train' / 'images' / f'img_{i}.png', img_size, min_radius)\n",
    "        \n",
    "    for i in range(val_num):\n",
    "        create_image(data_root_path / 'val' / 'images' / f'img_{i}.png', img_size, min_radius)\n",
    "        \n",
    "    for i in range(test_num):\n",
    "        create_image(data_root_path / 'test' / 'images' / f'img_{i}.png', img_size, min_radius)\n",
    "\n",
    "create_images('datasets', train_num=120, val_num=40, test_num=40, img_size=120, min_radius=10)"
   ]
  },
  {
   "cell_type": "code",
   "execution_count": 2,
   "id": "2c57138e-b14a-4934-89f6-6e06838c1ce8",
   "metadata": {},
   "outputs": [
    {
     "name": "stdout",
     "output_type": "stream",
     "text": [
      "Collecting rasterio\n",
      "  Downloading rasterio-1.3.9-cp310-cp310-manylinux2014_x86_64.whl (20.6 MB)\n",
      "\u001b[2K     \u001b[90m━━━━━━━━━━━━━━━━━━━━━━━━━━━━━━━━━━━━━━━━\u001b[0m \u001b[32m20.6/20.6 MB\u001b[0m \u001b[31m15.6 MB/s\u001b[0m eta \u001b[36m0:00:00\u001b[0m00:01\u001b[0m00:01\u001b[0m\n",
      "\u001b[?25hRequirement already satisfied: cligj>=0.5 in /work/FAC/FBM/DBC/cdessim2/default/dmoi/miniconda3/envs/ML2/lib/python3.10/site-packages (from rasterio) (0.7.2)\n",
      "Requirement already satisfied: click>=4.0 in /work/FAC/FBM/DBC/cdessim2/default/dmoi/miniconda3/envs/ML2/lib/python3.10/site-packages (from rasterio) (8.1.3)\n",
      "Collecting snuggs>=1.4.1\n",
      "  Downloading snuggs-1.4.7-py3-none-any.whl (5.4 kB)\n",
      "Requirement already satisfied: click-plugins in /work/FAC/FBM/DBC/cdessim2/default/dmoi/miniconda3/envs/ML2/lib/python3.10/site-packages (from rasterio) (1.1.1)\n",
      "Requirement already satisfied: setuptools in /work/FAC/FBM/DBC/cdessim2/default/dmoi/miniconda3/envs/ML2/lib/python3.10/site-packages (from rasterio) (59.5.0)\n",
      "Collecting affine\n",
      "  Downloading affine-2.4.0-py3-none-any.whl (15 kB)\n",
      "Requirement already satisfied: numpy in /work/FAC/FBM/DBC/cdessim2/default/dmoi/miniconda3/envs/ML2/lib/python3.10/site-packages (from rasterio) (1.23.5)\n",
      "Requirement already satisfied: attrs in /work/FAC/FBM/DBC/cdessim2/default/dmoi/miniconda3/envs/ML2/lib/python3.10/site-packages (from rasterio) (22.1.0)\n",
      "Requirement already satisfied: certifi in /work/FAC/FBM/DBC/cdessim2/default/dmoi/miniconda3/envs/ML2/lib/python3.10/site-packages (from rasterio) (2023.11.17)\n",
      "Requirement already satisfied: pyparsing>=2.1.6 in /work/FAC/FBM/DBC/cdessim2/default/dmoi/miniconda3/envs/ML2/lib/python3.10/site-packages (from snuggs>=1.4.1->rasterio) (3.0.9)\n",
      "Installing collected packages: snuggs, affine, rasterio\n",
      "Successfully installed affine-2.4.0 rasterio-1.3.9 snuggs-1.4.7\n",
      "Note: you may need to restart the kernel to use updated packages.\n"
     ]
    }
   ],
   "source": [
    "pip install rasterio"
   ]
  },
  {
   "cell_type": "code",
   "execution_count": 3,
   "id": "509e453c-39f1-4024-8bba-1c91649c80d4",
   "metadata": {},
   "outputs": [],
   "source": [
    "from rasterio import features\n",
    "\n",
    "def create_label(image_path, label_path):\n",
    "    arr = np.asarray(Image.open(image_path))\n",
    "\n",
    "    # There may be a better way to do it, but this is what I have found so far\n",
    "    cords = list(features.shapes(arr, mask=(arr >0)))[0][0]['coordinates'][0]\n",
    "    label_line = '0 ' + ' '.join([f'{int(cord[0])/arr.shape[0]} {int(cord[1])/arr.shape[1]}' for cord in cords])\n",
    "\n",
    "    label_path.parent.mkdir( parents=True, exist_ok=True )\n",
    "    with label_path.open('w') as f:\n",
    "        f.write(label_line)\n",
    "\n",
    "for images_dir_path in [Path(f'datasets/{x}/images') for x in ['train', 'val', 'test']]:\n",
    "    for img_path in images_dir_path.iterdir():\n",
    "        label_path = img_path.parent.parent / 'labels' / f'{img_path.stem}.txt'\n",
    "        label_line = create_label(img_path, label_path)"
   ]
  },
  {
   "cell_type": "code",
   "execution_count": 4,
   "id": "09a4c0a3-fc03-4aa8-87c6-3846d8cb0270",
   "metadata": {},
   "outputs": [],
   "source": [
    "yaml_content = f'''\n",
    "train: train/images\n",
    "val: val/images\n",
    "test: test/images\n",
    "\n",
    "names: ['circle']\n",
    "    '''\n",
    "    \n",
    "with Path('data.yaml').open('w') as f:\n",
    "    f.write(yaml_content)"
   ]
  },
  {
   "cell_type": "code",
   "execution_count": null,
   "id": "6c8f961c-8f7b-40ba-a4c9-6b76759798e4",
   "metadata": {},
   "outputs": [
    {
     "name": "stdout",
     "output_type": "stream",
     "text": [
      "Collecting ultralytics==8.0.38\n",
      "  Downloading ultralytics-8.0.38-py3-none-any.whl (278 kB)\n",
      "\u001b[2K     \u001b[90m━━━━━━━━━━━━━━━━━━━━━━━━━━━━━━━━━━━━━━━\u001b[0m \u001b[32m278.1/278.1 kB\u001b[0m \u001b[31m3.3 MB/s\u001b[0m eta \u001b[36m0:00:00\u001b[0m00:01\u001b[0m\n",
      "\u001b[?25hCollecting wheel>=0.38.0\n",
      "  Downloading wheel-0.42.0-py3-none-any.whl (65 kB)\n",
      "\u001b[2K     \u001b[90m━━━━━━━━━━━━━━━━━━━━━━━━━━━━━━━━━━━━━━━━\u001b[0m \u001b[32m65.4/65.4 kB\u001b[0m \u001b[31m19.5 MB/s\u001b[0m eta \u001b[36m0:00:00\u001b[0m\n",
      "\u001b[?25hRequirement already satisfied: numpy>=1.18.5 in /work/FAC/FBM/DBC/cdessim2/default/dmoi/miniconda3/envs/ML2/lib/python3.10/site-packages (from ultralytics==8.0.38) (1.23.5)\n",
      "Requirement already satisfied: torch>=1.7.0 in /work/FAC/FBM/DBC/cdessim2/default/dmoi/miniconda3/envs/ML2/lib/python3.10/site-packages (from ultralytics==8.0.38) (1.13.1)\n",
      "Requirement already satisfied: torchvision>=0.8.1 in /work/FAC/FBM/DBC/cdessim2/default/dmoi/miniconda3/envs/ML2/lib/python3.10/site-packages (from ultralytics==8.0.38) (0.14.1)\n",
      "Requirement already satisfied: thop>=0.1.1 in /work/FAC/FBM/DBC/cdessim2/default/dmoi/miniconda3/envs/ML2/lib/python3.10/site-packages (from ultralytics==8.0.38) (0.1.1.post2209072238)\n",
      "Requirement already satisfied: tqdm>=4.64.0 in /work/FAC/FBM/DBC/cdessim2/default/dmoi/miniconda3/envs/ML2/lib/python3.10/site-packages (from ultralytics==8.0.38) (4.64.1)\n",
      "Requirement already satisfied: matplotlib>=3.2.2 in /work/FAC/FBM/DBC/cdessim2/default/dmoi/miniconda3/envs/ML2/lib/python3.10/site-packages (from ultralytics==8.0.38) (3.6.2)\n",
      "Requirement already satisfied: Pillow>=7.1.2 in /work/FAC/FBM/DBC/cdessim2/default/dmoi/miniconda3/envs/ML2/lib/python3.10/site-packages (from ultralytics==8.0.38) (9.3.0)\n",
      "Requirement already satisfied: tensorboard>=2.4.1 in /work/FAC/FBM/DBC/cdessim2/default/dmoi/miniconda3/envs/ML2/lib/python3.10/site-packages (from ultralytics==8.0.38) (2.11.2)\n",
      "Requirement already satisfied: seaborn>=0.11.0 in /work/FAC/FBM/DBC/cdessim2/default/dmoi/miniconda3/envs/ML2/lib/python3.10/site-packages (from ultralytics==8.0.38) (0.12.2)\n",
      "Requirement already satisfied: scipy>=1.4.1 in /work/FAC/FBM/DBC/cdessim2/default/dmoi/miniconda3/envs/ML2/lib/python3.10/site-packages (from ultralytics==8.0.38) (1.9.3)\n",
      "Requirement already satisfied: psutil in /work/FAC/FBM/DBC/cdessim2/default/dmoi/miniconda3/envs/ML2/lib/python3.10/site-packages (from ultralytics==8.0.38) (5.9.0)\n",
      "Requirement already satisfied: PyYAML>=5.3.1 in /work/FAC/FBM/DBC/cdessim2/default/dmoi/miniconda3/envs/ML2/lib/python3.10/site-packages (from ultralytics==8.0.38) (6.0)\n",
      "Requirement already satisfied: opencv-python>=4.6.0 in /work/FAC/FBM/DBC/cdessim2/default/dmoi/miniconda3/envs/ML2/lib/python3.10/site-packages (from ultralytics==8.0.38) (4.9.0.80)\n",
      "Collecting sentry-sdk\n",
      "  Downloading sentry_sdk-1.40.2-py2.py3-none-any.whl (257 kB)\n",
      "\u001b[2K     \u001b[90m━━━━━━━━━━━━━━━━━━━━━━━━━━━━━━━━━━━━━━\u001b[0m \u001b[32m257.7/257.7 kB\u001b[0m \u001b[31m56.8 MB/s\u001b[0m eta \u001b[36m0:00:00\u001b[0m\n",
      "\u001b[?25hRequirement already satisfied: requests>=2.23.0 in /work/FAC/FBM/DBC/cdessim2/default/dmoi/miniconda3/envs/ML2/lib/python3.10/site-packages (from ultralytics==8.0.38) (2.28.1)\n",
      "Requirement already satisfied: pandas>=1.1.4 in /work/FAC/FBM/DBC/cdessim2/default/dmoi/miniconda3/envs/ML2/lib/python3.10/site-packages (from ultralytics==8.0.38) (1.3.5)\n",
      "Requirement already satisfied: contourpy>=1.0.1 in /work/FAC/FBM/DBC/cdessim2/default/dmoi/miniconda3/envs/ML2/lib/python3.10/site-packages (from matplotlib>=3.2.2->ultralytics==8.0.38) (1.0.5)\n",
      "Requirement already satisfied: pyparsing>=2.2.1 in /work/FAC/FBM/DBC/cdessim2/default/dmoi/miniconda3/envs/ML2/lib/python3.10/site-packages (from matplotlib>=3.2.2->ultralytics==8.0.38) (3.0.9)\n",
      "Requirement already satisfied: fonttools>=4.22.0 in /work/FAC/FBM/DBC/cdessim2/default/dmoi/miniconda3/envs/ML2/lib/python3.10/site-packages (from matplotlib>=3.2.2->ultralytics==8.0.38) (4.25.0)\n",
      "Requirement already satisfied: kiwisolver>=1.0.1 in /work/FAC/FBM/DBC/cdessim2/default/dmoi/miniconda3/envs/ML2/lib/python3.10/site-packages (from matplotlib>=3.2.2->ultralytics==8.0.38) (1.4.4)\n",
      "Requirement already satisfied: packaging>=20.0 in /work/FAC/FBM/DBC/cdessim2/default/dmoi/miniconda3/envs/ML2/lib/python3.10/site-packages (from matplotlib>=3.2.2->ultralytics==8.0.38) (22.0)\n",
      "Requirement already satisfied: python-dateutil>=2.7 in /work/FAC/FBM/DBC/cdessim2/default/dmoi/miniconda3/envs/ML2/lib/python3.10/site-packages (from matplotlib>=3.2.2->ultralytics==8.0.38) (2.8.2)\n",
      "Requirement already satisfied: cycler>=0.10 in /work/FAC/FBM/DBC/cdessim2/default/dmoi/miniconda3/envs/ML2/lib/python3.10/site-packages (from matplotlib>=3.2.2->ultralytics==8.0.38) (0.11.0)\n",
      "Requirement already satisfied: pytz>=2017.3 in /work/FAC/FBM/DBC/cdessim2/default/dmoi/miniconda3/envs/ML2/lib/python3.10/site-packages (from pandas>=1.1.4->ultralytics==8.0.38) (2022.7)\n",
      "Requirement already satisfied: idna<4,>=2.5 in /work/FAC/FBM/DBC/cdessim2/default/dmoi/miniconda3/envs/ML2/lib/python3.10/site-packages (from requests>=2.23.0->ultralytics==8.0.38) (3.4)\n",
      "Requirement already satisfied: certifi>=2017.4.17 in /work/FAC/FBM/DBC/cdessim2/default/dmoi/miniconda3/envs/ML2/lib/python3.10/site-packages (from requests>=2.23.0->ultralytics==8.0.38) (2023.11.17)\n",
      "Requirement already satisfied: urllib3<1.27,>=1.21.1 in /work/FAC/FBM/DBC/cdessim2/default/dmoi/miniconda3/envs/ML2/lib/python3.10/site-packages (from requests>=2.23.0->ultralytics==8.0.38) (1.26.14)\n",
      "Requirement already satisfied: charset-normalizer<3,>=2 in /work/FAC/FBM/DBC/cdessim2/default/dmoi/miniconda3/envs/ML2/lib/python3.10/site-packages (from requests>=2.23.0->ultralytics==8.0.38) (2.0.4)\n",
      "Requirement already satisfied: tensorboard-data-server<0.7.0,>=0.6.0 in /work/FAC/FBM/DBC/cdessim2/default/dmoi/miniconda3/envs/ML2/lib/python3.10/site-packages (from tensorboard>=2.4.1->ultralytics==8.0.38) (0.6.1)\n",
      "Requirement already satisfied: werkzeug>=1.0.1 in /work/FAC/FBM/DBC/cdessim2/default/dmoi/miniconda3/envs/ML2/lib/python3.10/site-packages (from tensorboard>=2.4.1->ultralytics==8.0.38) (2.3.4)\n",
      "Requirement already satisfied: absl-py>=0.4 in /work/FAC/FBM/DBC/cdessim2/default/dmoi/miniconda3/envs/ML2/lib/python3.10/site-packages (from tensorboard>=2.4.1->ultralytics==8.0.38) (1.4.0)\n",
      "Requirement already satisfied: protobuf<4,>=3.9.2 in /work/FAC/FBM/DBC/cdessim2/default/dmoi/miniconda3/envs/ML2/lib/python3.10/site-packages (from tensorboard>=2.4.1->ultralytics==8.0.38) (3.19.6)\n",
      "Requirement already satisfied: setuptools>=41.0.0 in /work/FAC/FBM/DBC/cdessim2/default/dmoi/miniconda3/envs/ML2/lib/python3.10/site-packages (from tensorboard>=2.4.1->ultralytics==8.0.38) (59.5.0)\n",
      "Requirement already satisfied: google-auth-oauthlib<0.5,>=0.4.1 in /work/FAC/FBM/DBC/cdessim2/default/dmoi/miniconda3/envs/ML2/lib/python3.10/site-packages (from tensorboard>=2.4.1->ultralytics==8.0.38) (0.4.6)\n",
      "Requirement already satisfied: google-auth<3,>=1.6.3 in /work/FAC/FBM/DBC/cdessim2/default/dmoi/miniconda3/envs/ML2/lib/python3.10/site-packages (from tensorboard>=2.4.1->ultralytics==8.0.38) (2.16.0)\n",
      "Requirement already satisfied: tensorboard-plugin-wit>=1.6.0 in /work/FAC/FBM/DBC/cdessim2/default/dmoi/miniconda3/envs/ML2/lib/python3.10/site-packages (from tensorboard>=2.4.1->ultralytics==8.0.38) (1.8.1)\n",
      "Requirement already satisfied: grpcio>=1.24.3 in /work/FAC/FBM/DBC/cdessim2/default/dmoi/miniconda3/envs/ML2/lib/python3.10/site-packages (from tensorboard>=2.4.1->ultralytics==8.0.38) (1.51.1)\n",
      "Requirement already satisfied: markdown>=2.6.8 in /work/FAC/FBM/DBC/cdessim2/default/dmoi/miniconda3/envs/ML2/lib/python3.10/site-packages (from tensorboard>=2.4.1->ultralytics==8.0.38) (3.4.1)\n",
      "Requirement already satisfied: typing_extensions in /work/FAC/FBM/DBC/cdessim2/default/dmoi/miniconda3/envs/ML2/lib/python3.10/site-packages (from torch>=1.7.0->ultralytics==8.0.38) (4.4.0)\n",
      "Requirement already satisfied: cachetools<6.0,>=2.0.0 in /work/FAC/FBM/DBC/cdessim2/default/dmoi/miniconda3/envs/ML2/lib/python3.10/site-packages (from google-auth<3,>=1.6.3->tensorboard>=2.4.1->ultralytics==8.0.38) (5.3.0)\n",
      "Requirement already satisfied: rsa<5,>=3.1.4 in /work/FAC/FBM/DBC/cdessim2/default/dmoi/miniconda3/envs/ML2/lib/python3.10/site-packages (from google-auth<3,>=1.6.3->tensorboard>=2.4.1->ultralytics==8.0.38) (4.9)\n",
      "Requirement already satisfied: pyasn1-modules>=0.2.1 in /work/FAC/FBM/DBC/cdessim2/default/dmoi/miniconda3/envs/ML2/lib/python3.10/site-packages (from google-auth<3,>=1.6.3->tensorboard>=2.4.1->ultralytics==8.0.38) (0.2.8)\n",
      "Requirement already satisfied: six>=1.9.0 in /work/FAC/FBM/DBC/cdessim2/default/dmoi/miniconda3/envs/ML2/lib/python3.10/site-packages (from google-auth<3,>=1.6.3->tensorboard>=2.4.1->ultralytics==8.0.38) (1.16.0)\n",
      "Requirement already satisfied: requests-oauthlib>=0.7.0 in /work/FAC/FBM/DBC/cdessim2/default/dmoi/miniconda3/envs/ML2/lib/python3.10/site-packages (from google-auth-oauthlib<0.5,>=0.4.1->tensorboard>=2.4.1->ultralytics==8.0.38) (1.3.1)\n",
      "Requirement already satisfied: MarkupSafe>=2.1.1 in /work/FAC/FBM/DBC/cdessim2/default/dmoi/miniconda3/envs/ML2/lib/python3.10/site-packages (from werkzeug>=1.0.1->tensorboard>=2.4.1->ultralytics==8.0.38) (2.1.1)\n",
      "Requirement already satisfied: pyasn1<0.5.0,>=0.4.6 in /work/FAC/FBM/DBC/cdessim2/default/dmoi/miniconda3/envs/ML2/lib/python3.10/site-packages (from pyasn1-modules>=0.2.1->google-auth<3,>=1.6.3->tensorboard>=2.4.1->ultralytics==8.0.38) (0.4.8)\n",
      "Requirement already satisfied: oauthlib>=3.0.0 in /work/FAC/FBM/DBC/cdessim2/default/dmoi/miniconda3/envs/ML2/lib/python3.10/site-packages (from requests-oauthlib>=0.7.0->google-auth-oauthlib<0.5,>=0.4.1->tensorboard>=2.4.1->ultralytics==8.0.38) (3.2.2)\n",
      "Installing collected packages: wheel, sentry-sdk, ultralytics\n",
      "  Attempting uninstall: wheel\n",
      "    Found existing installation: wheel 0.37.1\n",
      "    Uninstalling wheel-0.37.1:\n"
     ]
    }
   ],
   "source": [
    "pip install ultralytics==8.0.38\n"
   ]
  },
  {
   "cell_type": "code",
   "execution_count": null,
   "id": "450d831b-393d-4a37-b195-df83ece35cd2",
   "metadata": {},
   "outputs": [],
   "source": [
    "from ultralytics import YOLO\n",
    "\n",
    "model = YOLO(\"yolov8n-seg.pt\")\n",
    "\n",
    "results = model.train(\n",
    "        batch=8,\n",
    "        device=\"cpu\",\n",
    "        data=\"data.yaml\",\n",
    "        epochs=7,\n",
    "        imgsz=120,\n",
    "    )"
   ]
  },
  {
   "cell_type": "code",
   "execution_count": null,
   "id": "c3ca8e7b-ee70-4776-92ec-8170e78589e7",
   "metadata": {},
   "outputs": [],
   "source": [
    "from IPython.display import Image as show_image\n",
    "show_image(filename=\"runs/segment/train60/val_batch0_labels.jpg\")"
   ]
  }
 ],
 "metadata": {
  "kernelspec": {
   "display_name": "Python 3 (ipykernel)",
   "language": "python",
   "name": "python3"
  },
  "language_info": {
   "codemirror_mode": {
    "name": "ipython",
    "version": 3
   },
   "file_extension": ".py",
   "mimetype": "text/x-python",
   "name": "python",
   "nbconvert_exporter": "python",
   "pygments_lexer": "ipython3",
   "version": "3.10.8"
  }
 },
 "nbformat": 4,
 "nbformat_minor": 5
}
